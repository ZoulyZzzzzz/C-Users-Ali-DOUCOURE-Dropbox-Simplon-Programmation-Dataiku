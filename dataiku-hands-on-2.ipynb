{
 "cells": [
  {
   "cell_type": "markdown",
   "id": "disturbed-suspect",
   "metadata": {},
   "source": [
    "# Projet libre\n",
    "\n",
    "1. Dans votre groupe, mettez-vous d'accord sur un thème et téléchargez un jeu de données dans l'une des sources suivantes : \n",
    "- https://public.tableau.com/s/resources?qt-overview_resources=1#qt-overview_resources\n",
    "- https://opendata.paris.fr/\n",
    "- https://www.data.gouv.fr/\n",
    "- https://datanova.laposte.fr/\n",
    "- https://www.kaggle.com/datasets\n",
    "- https://datasetsearch.research.google.com/\n",
    "\n",
    "2. Préparez les données selon vos besoins\n",
    "\n",
    "3. Faites parler les données"
   ]
  },
  {
   "cell_type": "markdown",
   "id": "informed-cartoon",
   "metadata": {},
   "source": [
    "# Projet CO2\n",
    "\n",
    "## Datasets\n",
    "\n",
    "### [CO2_and_Oil.csv](projet-co2/CO2_and_Oil.csv)\n",
    "Comprend des informations annuelles sur les émissions de CO2 par habitant et la production de pétrole en térawatts-heures pour chaque pays. \n",
    "\n",
    "*Source: Our World in Data*\n",
    "\n",
    "### [Urbanization_GDP_and_Population.csv](projet-co2/Urbanization_GDP_and_Population.csv)\t\n",
    "Pour chaque combinaison pays - année, comprend le pourcentage de personnes qui vivent dans des zones urbaines (par rapport aux zones rurales), le produit intérieur brut (PIB) par habitant et la population du pays cette année-là. \n",
    "\n",
    "*Source: Our World in Data*\n",
    "\n",
    "### [Meat_and_Egg_Production.csv](projet-co2/Meat_and_Egg_Production.csv)\t\n",
    "Pour chaque combinaison pays - année, comprend la production de viande et d'œufs en tonnes, ainsi que l'approvisionnement en viande par personne en kg.\n",
    "Comprend des informations annuelles sur les émissions de CO2 par habitant et la production de pétrole en térawattheures pour chaque pays.\n",
    "\n",
    "*Source: Our World in Data*\n",
    "\n",
    "## Instructions\n",
    "\n",
    "1. Fusionnez les informations des trois tableaux en un seul. Nous recommandons d'utiliser le fichier CO2_and_Oil.csv comme base (tableau de gauche) pour fusionner les autres fichiers.\n",
    "2. Limitez votre analyse aux données de 2008-2012 (inclus).\n",
    "3. Certaines colonnes présentent les données totales du pays. Transformez ces colonnes en données par habitant. Vous n'aurez pas besoin des colonnes originales (y compris la population) pour une analyse plus approfondie.\n",
    "4. Plusieurs colonnes des données par habitant comportent des lignes manquantes. Pour l'instant, remplissez ces valeurs avec des 0.\n",
    "5. Les données fusionnées et préparées constituent maintenant une base à partir de laquelle nous pouvons effectuer des analyses plus approfondies. Elle doit comporter une colonne avec le nom du pays, une colonne indiquant l'année et 7 colonnes décrivant les statistiques sur ce pays pour cette année.\n",
    "6. Dans l'ensemble de données fusionnées et préparées, créez une analyse univariée sur les 7 colonnes \"descriptives\", réparties par année.\n",
    "7. À partir de l'ensemble de données fusionné et préparé, créez un nouvel ensemble de données qui agrège les valeurs des 7 colonnes \"descriptives\" de manière à ce qu'il y ait une seule ligne pour chaque pays qui contienne la valeur moyenne des colonnes \"descriptives\" sur les années 2008-2012.\n",
    "8. Dans l'ensemble de données agrégées, créez une card sur une feuille de calcul statistique avec la matrice de corrélation des 7 colonnes \"descriptives\".\n",
    "\n",
    "## Bonus\n",
    "\n",
    "À partir de l'ensemble de données fusionnées et préparées, créez un nouvel ensemble de données qui a :\n",
    "\n",
    "1. Une ligne par pays\n",
    "2. Une colonne identifiant le pays auquel la ligne est associée\n",
    "3. Une colonne par an de 2008 à 2012 qui indique le rang du pays dans la production de CO2 par habitant, 1 étant le rang du pays le plus producteur.\n",
    "4. Une colonne par an de 2009 à 2012 qui indique l'évolution de la production de CO2 par rapport à l'année précédente\n"
   ]
  },
  {
   "cell_type": "markdown",
   "id": "express-eight",
   "metadata": {},
   "source": [
    "# Projet Airport\n",
    "\n",
    "https://academy.dataiku.com/path/core-designer/visual-recipes-overview-1/500697"
   ]
  },
  {
   "cell_type": "code",
   "execution_count": null,
   "id": "economic-capture",
   "metadata": {},
   "outputs": [],
   "source": []
  }
 ],
 "metadata": {
  "kernelspec": {
   "display_name": "Python 3",
   "language": "python",
   "name": "python3"
  },
  "language_info": {
   "codemirror_mode": {
    "name": "ipython",
    "version": 3
   },
   "file_extension": ".py",
   "mimetype": "text/x-python",
   "name": "python",
   "nbconvert_exporter": "python",
   "pygments_lexer": "ipython3",
   "version": "3.8.3"
  },
  "toc": {
   "base_numbering": 1,
   "nav_menu": {},
   "number_sections": true,
   "sideBar": true,
   "skip_h1_title": false,
   "title_cell": "Table of Contents",
   "title_sidebar": "Contents",
   "toc_cell": false,
   "toc_position": {
    "height": "calc(100% - 180px)",
    "left": "10px",
    "top": "150px",
    "width": "224px"
   },
   "toc_section_display": true,
   "toc_window_display": true
  }
 },
 "nbformat": 4,
 "nbformat_minor": 5
}
